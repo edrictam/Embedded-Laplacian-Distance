{
 "cells": [
  {
   "cell_type": "code",
   "execution_count": 14,
   "metadata": {},
   "outputs": [],
   "source": [
    "## Import all relevant libraries\n",
    "import sys\n",
    "import networkx as nx \n",
    "import numpy as np\n",
    "import seaborn as sns\n",
    "import random\n",
    "import time \n",
    "from portrait_divergence import portrait_divergence"
   ]
  },
  {
   "cell_type": "code",
   "execution_count": 8,
   "metadata": {},
   "outputs": [],
   "source": [
    "## Import all ELD functions\n",
    "from ELD import compute_ELD, create_ELD_distance_matrix, compute_ELD_fast, create_ELD_distance_matrix_fast"
   ]
  },
  {
   "cell_type": "code",
   "execution_count": 21,
   "metadata": {},
   "outputs": [],
   "source": [
    "## Setup Experiment \n",
    "\n",
    "# Create random ER and BA graphs with varying number of vertices \n",
    "\n",
    "random.seed(10)\n",
    "np.random.seed(10)\n",
    "\n",
    "num_samples = 10\n",
    "ER_param = 0.03\n",
    "BA_param = 3\n",
    "\n",
    "vertList = [200, 400, 600, 800, 1000]\n",
    "\n",
    "ERlist = []\n",
    "BAlist = []\n",
    "\n",
    "for num_vert in vertList:\n",
    "    ER_sublist = []\n",
    "    for i in range(0, num_samples):\n",
    "        G1  = nx.erdos_renyi_graph(num_vert, ER_param)\n",
    "        G2  = nx.erdos_renyi_graph(num_vert, ER_param)\n",
    "        ER_sublist.append((G1, G2))\n",
    "\n",
    "    BA_sublist = []\n",
    "    for i in range(0, num_samples):\n",
    "        G1 = nx.barabasi_albert_graph(num_vert, BA_param)\n",
    "        G2 = nx.barabasi_albert_graph(num_vert, BA_param)\n",
    "        BA_sublist.append((G1, G2))\n",
    "\n",
    "    ERlist.append(ER_sublist)\n",
    "    BAlist.append(BA_sublist)\n"
   ]
  },
  {
   "cell_type": "code",
   "execution_count": 22,
   "metadata": {},
   "outputs": [
    {
     "name": "stdout",
     "output_type": "stream",
     "text": [
      "--- 1.8543591499328613 seconds ---\n",
      "--- 0.10074186325073242 seconds ---\n",
      "--- 1.8445348739624023 seconds ---\n",
      "--- 0.11448407173156738 seconds ---\n",
      "--- 5.720211982727051 seconds ---\n",
      "--- 0.35117602348327637 seconds ---\n",
      "--- 5.212345838546753 seconds ---\n",
      "--- 0.30763697624206543 seconds ---\n",
      "--- 12.477061986923218 seconds ---\n",
      "--- 1.1866791248321533 seconds ---\n",
      "--- 10.052940130233765 seconds ---\n",
      "--- 0.686460018157959 seconds ---\n",
      "--- 23.24862813949585 seconds ---\n",
      "--- 2.1790051460266113 seconds ---\n",
      "--- 16.15233087539673 seconds ---\n",
      "--- 1.3386433124542236 seconds ---\n",
      "--- 38.05455493927002 seconds ---\n",
      "--- 4.2550368309021 seconds ---\n",
      "--- 24.9290931224823 seconds ---\n",
      "--- 2.4283199310302734 seconds ---\n"
     ]
    }
   ],
   "source": [
    "## Run the actual experiment on the generated graphs\n",
    "\n",
    "# There are four cases: \n",
    "# 1. ER Graphs: NPD vs ELD\n",
    "# 2. BA Graphs: NPD vs ELD\n",
    " \n",
    "NPDtimesER = []\n",
    "ELDtimesER = []\n",
    "NPDtimesBA = []\n",
    "ELDtimesBA = []\n",
    "\n",
    "K = 10 # ELD hyperparameter\n",
    "\n",
    "for i in range(len(vertList)):\n",
    "\n",
    "    start_time = time.time()\n",
    "    for (G1, G2) in ERlist[i]:\n",
    "        dist = portrait_divergence(G1, G2)\n",
    "    runTime = time.time() - start_time\n",
    "    print(\"--- %s seconds ---\" % (runTime))\n",
    "    NPDtimesER.append(runTime)\n",
    "\n",
    "    start_time = time.time()\n",
    "    for (G1, G2) in ERlist[i]:\n",
    "        dist = compute_ELD(G1, G2, K)\n",
    "    runTime = time.time() - start_time\n",
    "    print(\"--- %s seconds ---\" % (runTime))\n",
    "    ELDtimesER.append(runTime)\n",
    "    \n",
    "    start_time = time.time()\n",
    "    for (G1, G2) in BAlist[i]:\n",
    "        dist = portrait_divergence(G1, G2)\n",
    "    runTime = time.time() - start_time\n",
    "    print(\"--- %s seconds ---\" % (runTime))\n",
    "    NPDtimesBA.append(runTime)\n",
    "    \n",
    "    start_time = time.time()\n",
    "    for (G1, G2) in BAlist[i]:\n",
    "        dist = compute_ELD(G1, G2, K)\n",
    "    runTime = time.time() - start_time\n",
    "    print(\"--- %s seconds ---\" % (runTime))\n",
    "    ELDtimesBA.append(runTime)"
   ]
  },
  {
   "cell_type": "code",
   "execution_count": 23,
   "metadata": {},
   "outputs": [
    {
     "data": {
      "image/png": "[encoded data removed]",
      "text/plain": [
       "<Figure size 432x288 with 2 Axes>"
      ]
     },
     "metadata": {
      "needs_background": "light"
     },
     "output_type": "display_data"
    }
   ],
   "source": [
    "## Plot results in figure\n",
    "from matplotlib import pyplot as plt\n",
    "\n",
    "fig, (ax1, ax2) = plt.subplots(2, 1)\n",
    "fig.suptitle('Computational Time Comparison Plot NPD vs ELD')\n",
    "\n",
    "ax1.plot(vertList, NPDtimesER, 'ro-')\n",
    "ax1.plot(vertList, ELDtimesER, 'b*-')\n",
    "ax1.set_ylabel('Run Time (s)')\n",
    "ax1.set_xlabel('Number of vertices')\n",
    "ax1.legend([\"NPD for ER graphs\", \"ELD for ER graphs\"])\n",
    "\n",
    "\n",
    "ax2.plot(vertList, NPDtimesBA, 'ro-')\n",
    "ax2.plot(vertList, ELDtimesBA, 'b*-')\n",
    "ax2.set_xlabel('Number of vertices')\n",
    "ax2.set_ylabel('Run Time (s)')\n",
    "ax2.legend([\"NPD for BA graphs\", \"ELD for BA graphs\"])\n",
    "plt.show()\n",
    "\n",
    "fig.savefig(\"Computational Time Comparison.png\")"
   ]
  },
  {
   "cell_type": "code",
   "execution_count": null,
   "metadata": {},
   "outputs": [],
   "source": []
  }
 ],
 "metadata": {
  "kernelspec": {
   "display_name": "Python 3",
   "language": "python",
   "name": "python3"
  },
  "language_info": {
   "codemirror_mode": {
    "name": "ipython",
    "version": 3
   },
   "file_extension": ".py",
   "mimetype": "text/x-python",
   "name": "python",
   "nbconvert_exporter": "python",
   "pygments_lexer": "ipython3",
   "version": "3.9.5"
  }
 },
 "nbformat": 4,
 "nbformat_minor": 4
}
